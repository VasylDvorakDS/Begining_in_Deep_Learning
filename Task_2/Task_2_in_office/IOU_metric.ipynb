{
  "nbformat": 4,
  "nbformat_minor": 0,
  "metadata": {
    "colab": {
      "provenance": []
    },
    "kernelspec": {
      "name": "python3",
      "display_name": "Python 3"
    },
    "language_info": {
      "name": "python"
    }
  },
  "cells": [
    {
      "cell_type": "markdown",
      "source": [
        "# Задание\n",
        "\n",
        "Реализуйте функцию для вычисления IoU для двух бинарных масок.\n"
      ],
      "metadata": {
        "id": "eIDeP6G4R3xV"
      }
    },
    {
      "cell_type": "code",
      "execution_count": 1,
      "metadata": {
        "id": "ofJ0IxG3RdbL"
      },
      "outputs": [],
      "source": [
        "import numpy as np\n",
        "\n",
        "# numpy — библиотека для работы с многомерными массивами и матрицами, очень полезна для компьютерного зрения\n",
        "# np — сокращённое имя, чтобы удобнее было писать вызовы функций numpy\n"
      ]
    },
    {
      "cell_type": "code",
      "source": [
        "def compute_iou(mask1, mask2):\n",
        "    # Функция для вычисления метрики IoU (Intersection over Union)\n",
        "    # IoU измеряет насколько две маски перекрываются, часто используется для оценки качества сегментации\n",
        "\n",
        "    # np.logical_and(mask1, mask2) — логическое И между двумя масками, пиксели, где обе маски True\n",
        "    # .sum() — считает количество таких пикселей (пересечение)\n",
        "    intersection = np.logical_and(mask1, mask2).sum()\n",
        "\n",
        "    # np.logical_or(mask1, mask2) — логическое ИЛИ между масками, пиксели, где хотя бы одна маска True\n",
        "    # .sum() — считает количество таких пикселей (объединение)\n",
        "    union = np.logical_or(mask1, mask2).sum()\n",
        "\n",
        "    # Вычисляем IoU — отношение пересечения к объединению\n",
        "    # Если объединение равно 0 (редкий случай, обе маски пусты), возвращаем 0, чтобы избежать деления на ноль\n",
        "    iou = intersection / union if union != 0 else 0\n",
        "\n",
        "    return iou  # возвращаем значение метрики IoU\n"
      ],
      "metadata": {
        "id": "PvpI7RjfSFH9"
      },
      "execution_count": 2,
      "outputs": []
    },
    {
      "cell_type": "code",
      "source": [
        "# Пример использования функции compute_iou для двух бинарных масок\n",
        "\n",
        "mask1 = np.array([\n",
        "    [1, 0, 0],   # 1 — пиксель объекта, 0 — фон\n",
        "    [0, 1, 1],\n",
        "    [0, 1, 0]\n",
        "], dtype=bool)  # преобразуем в булев тип для логических операций\n",
        "\n",
        "mask2 = np.array([\n",
        "    [1, 0, 0],\n",
        "    [0, 1, 0],\n",
        "    [1, 0, 0]\n",
        "], dtype=bool)\n",
        "\n",
        "# Вызываем функцию compute_iou, чтобы получить меру пересечения масок\n",
        "print(f\"IoU: {compute_iou(mask1, mask2)}\")\n",
        "# IoU — число от 0 до 1, где 1 — полное совпадение, 0 — нет пересечения\n"
      ],
      "metadata": {
        "colab": {
          "base_uri": "https://localhost:8080/"
        },
        "id": "jwYloy1ISPVN",
        "outputId": "2cd3d57a-1d4d-4c96-cd4b-c6da32a52e0b"
      },
      "execution_count": 3,
      "outputs": [
        {
          "output_type": "stream",
          "name": "stdout",
          "text": [
            "IoU: 0.4\n"
          ]
        }
      ]
    }
  ]
}