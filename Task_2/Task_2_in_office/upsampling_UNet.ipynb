{
  "nbformat": 4,
  "nbformat_minor": 0,
  "metadata": {
    "colab": {
      "provenance": []
    },
    "kernelspec": {
      "name": "python3",
      "display_name": "Python 3"
    },
    "language_info": {
      "name": "python"
    }
  },
  "cells": [
    {
      "cell_type": "markdown",
      "source": [
        "# Задание\n",
        "\n",
        "Реализация upsampling блока нейронной сети UNet.\n",
        "Напишите функцию, которая выполняет блок декодера upsampling\n",
        "(например, с помощью ConvTranspose) и объединяет выходной тензор с\n",
        "соответствующим тензором из encoder с помощью concatenation.\n",
        "Протестируйте функцию на нескольких примерах, убедившись, что размеры\n",
        "тензоров соответствуют ожиданиям.\n",
        "\n",
        "Блок upsampling состоит из:\n",
        "- операции апсемплинг + свертка, которую можно задать с помощью\n",
        "nn.ConvTranspose2d\n",
        "- конкатенации с тензором из энкодера (skipping connection)\n",
        "- двух последовательных сверток с ядром 3*3 и функцией активации\n",
        "Relu. Padding = 0\n"
      ],
      "metadata": {
        "id": "PnGvmT18k7Gb"
      }
    },
    {
      "cell_type": "code",
      "execution_count": 1,
      "metadata": {
        "id": "8poiICcEkzT4"
      },
      "outputs": [],
      "source": [
        "import torch\n",
        "import torch.nn as nn\n",
        "import torch.optim as optim\n",
        "import matplotlib.pyplot as plt\n"
      ]
    },
    {
      "cell_type": "code",
      "source": [
        "\n",
        "class UNetUpBlock(nn.Module):\n",
        "    def __init__(self, in_channels, out_channels):\n",
        "        super(UNetUpBlock, self).__init__()\n",
        "        # nn.ConvTranspose2d - транспонированная свертка, используется для увеличения пространственных размеров (upsampling).\n",
        "        # Параметры:\n",
        "        # in_channels - количество входных каналов,\n",
        "        # out_channels - количество выходных каналов,\n",
        "        # kernel_size=2 - размер ядра свертки 2x2,\n",
        "        # stride=2 - шаг 2 для удвоения размера входа (например, 64x64 -> 128x128).\n",
        "        self.upconv = nn.ConvTranspose2d(in_channels, out_channels, kernel_size=2, stride=2)\n",
        "\n",
        "        # nn.Conv2d - обычная 2D-свертка для извлечения признаков.\n",
        "        # Параметры:\n",
        "        # in_channels - количество входных каналов,\n",
        "        # out_channels - количество выходных каналов,\n",
        "        # kernel_size=3 - размер ядра 3x3,\n",
        "        # padding=0 - без заполнения, поэтому размер выходного тензора уменьшается.\n",
        "        self.conv1 = nn.Conv2d(in_channels, out_channels, kernel_size=3, padding=0)\n",
        "\n",
        "        # nn.ReLU - функция активации ReLU (Rectified Linear Unit),\n",
        "        # inplace=True означает, что операция делается \"на месте\" для экономии памяти.\n",
        "        self.relu = nn.ReLU(inplace=True)\n",
        "\n",
        "        # Второй сверточный слой с теми же параметрами, для более глубокого извлечения признаков.\n",
        "        self.conv2 = nn.Conv2d(out_channels, out_channels, kernel_size=3, padding=0)\n",
        "\n",
        "    def forward(self, x, skip_connection):\n",
        "        # x - входной тензор (например, из предыдущего слоя U-Net, с уменьшенным пространственным размером).\n",
        "        # skip_connection - тензор из соответствующего слоя вниз по U-Net, для объединения деталей.\n",
        "\n",
        "        # Применяем транспонированную свертку для увеличения размера изображения (upsampling).\n",
        "        x = self.upconv(x)\n",
        "\n",
        "        # Объединяем (конкатенируем) по канальному измерению (dim=1)\n",
        "        # upsampled x и skip_connection, чтобы сохранить детали из ранних слоев.\n",
        "        x = torch.cat([x, skip_connection], dim=1)\n",
        "\n",
        "        # Пропускаем результат через первый сверточный слой для извлечения признаков.\n",
        "        x = self.conv1(x)\n",
        "\n",
        "        # Применяем активацию ReLU для нелинейности.\n",
        "        x = self.relu(x)\n",
        "\n",
        "        # Пропускаем через второй сверточный слой для более детальной обработки.\n",
        "        x = self.conv2(x)\n",
        "\n",
        "        # Снова ReLU активация.\n",
        "        x = self.relu(x)\n",
        "\n",
        "        # Возвращаем обработанный тензор.\n",
        "        return x\n"
      ],
      "metadata": {
        "id": "V5D_pHeDlmwE"
      },
      "execution_count": 2,
      "outputs": []
    },
    {
      "cell_type": "code",
      "source": [
        "\n",
        "# Создаем объект блока UNetUpBlock\n",
        "# Параметры:\n",
        "# in_channels=256 — количество каналов входного тензора (input_tensor),\n",
        "# out_channels=128 — количество каналов на выходе блока.\n",
        "upblock = UNetUpBlock(256, 128)\n",
        "\n",
        "# Создаем случайный входной тензор с размерностью:\n",
        "# batch_size=1, каналы=256, высота=100, ширина=100\n",
        "# torch.randn генерирует тензор с нормальным распределением.\n",
        "input_tensor = torch.randn(1, 256, 100, 100)\n",
        "\n",
        "# Создаем тензор для skip connection с размерностью:\n",
        "# batch_size=1, каналы=128, высота=200, ширина=200\n",
        "# Он должен иметь в 2 раза большую высоту и ширину, чтобы соответствовать upsampling слою.\n",
        "skip_tensor = torch.randn(1, 128, 200, 200)\n",
        "\n",
        "# Передаем тензоры в блок\n",
        "output = upblock(input_tensor, skip_tensor)\n",
        "\n",
        "# Выводим размерность выходного тензора\n",
        "# Ожидается размерность: batch_size=1, каналы=128, высота и ширина немного уменьшатся из-за сверток с padding=0,\n",
        "# то есть будет примерно (1, 128, 196, 196) или меньше (зависит от точного поведения сверток).\n",
        "print(output.shape)\n"
      ],
      "metadata": {
        "colab": {
          "base_uri": "https://localhost:8080/"
        },
        "id": "nebZ0xl3l6t0",
        "outputId": "3a730b85-5f5d-4b1b-b458-df1743d6a54c"
      },
      "execution_count": 3,
      "outputs": [
        {
          "output_type": "stream",
          "name": "stdout",
          "text": [
            "torch.Size([1, 128, 196, 196])\n"
          ]
        }
      ]
    }
  ]
}