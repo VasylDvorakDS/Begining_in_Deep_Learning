{
  "nbformat": 4,
  "nbformat_minor": 0,
  "metadata": {
    "colab": {
      "provenance": [],
      "gpuType": "L4"
    },
    "kernelspec": {
      "name": "python3",
      "display_name": "Python 3"
    },
    "language_info": {
      "name": "python"
    },
    "accelerator": "GPU"
  },
  "cells": [
    {
      "cell_type": "code",
      "source": [
        "!python -m spacy download en_core_web_md"
      ],
      "metadata": {
        "colab": {
          "base_uri": "https://localhost:8080/"
        },
        "id": "Z8XPXmeRRuoN",
        "outputId": "6942a2bc-dcbf-4aed-9f1f-a5ebcb07adb9"
      },
      "execution_count": 4,
      "outputs": [
        {
          "output_type": "stream",
          "name": "stdout",
          "text": [
            "Collecting en-core-web-md==3.8.0\n",
            "  Downloading https://github.com/explosion/spacy-models/releases/download/en_core_web_md-3.8.0/en_core_web_md-3.8.0-py3-none-any.whl (33.5 MB)\n",
            "\u001b[2K     \u001b[90m━━━━━━━━━━━━━━━━━━━━━━━━━━━━━━━━━━━━━━━━\u001b[0m \u001b[32m33.5/33.5 MB\u001b[0m \u001b[31m21.7 MB/s\u001b[0m eta \u001b[36m0:00:00\u001b[0m\n",
            "\u001b[?25h\u001b[38;5;2m✔ Download and installation successful\u001b[0m\n",
            "You can now load the package via spacy.load('en_core_web_md')\n",
            "\u001b[38;5;3m⚠ Restart to reload dependencies\u001b[0m\n",
            "If you are in a Jupyter or Colab notebook, you may need to restart Python in\n",
            "order to load all the package's dependencies. You can do this by selecting the\n",
            "'Restart kernel' or 'Restart runtime' option.\n"
          ]
        }
      ]
    },
    {
      "cell_type": "code",
      "source": [
        "# Импортируем нужные библиотеки\n",
        "\n",
        "import spacy  # библиотека для обработки текста на естественном языке (NLP)\n",
        "import numpy as np  # библиотека для работы с массивами чисел\n",
        "import matplotlib.pyplot as plt  # библиотека для построения графиков\n",
        "from sklearn.decomposition import PCA  # метод понижения размерности данных (Principal Component Analysis)"
      ],
      "metadata": {
        "id": "mWZTxptQRXwf"
      },
      "execution_count": 5,
      "outputs": []
    },
    {
      "cell_type": "code",
      "execution_count": 6,
      "metadata": {
        "colab": {
          "base_uri": "https://localhost:8080/",
          "height": 545
        },
        "id": "GyHcz6hgQwPA",
        "outputId": "82937f7f-f188-4d57-cb40-eb505fccd6e2"
      },
      "outputs": [
        {
          "output_type": "display_data",
          "data": {
            "text/plain": [
              "<Figure size 1200x600 with 1 Axes>"
            ],
            "image/png": "[encoded data removed]"
          },
          "metadata": {}
        }
      ],
      "source": [
        "\n",
        "# Загружаем предобученную модель spacy с векторными представлениями слов.\n",
        "# \"en_core_web_md\" — это английская модель среднего размера (medium), включающая Word Vectors (векторы слов)\n",
        "nlp = spacy.load(\"en_core_web_md\")\n",
        "\n",
        "# Создаём список английских слов, которые мы хотим визуализировать.\n",
        "# Эти слова относятся к разным категориям (животные, фрукты, транспорт, время, власть)\n",
        "words = [\"dog\", \"cat\", \"apple\", \"banana\", \"king\", \"queen\", \"car\", \"bus\", \"day\", \"week\", \"month\"]\n",
        "\n",
        "# Преобразуем каждое слово в его векторное представление.\n",
        "# Каждое слово превращается в массив из примерно 300 чисел, которые описывают его смысл.\n",
        "# Эти векторы создаются моделью spaCy на основе большого корпуса текстов.\n",
        "word_vectors = np.array([nlp(word).vector for word in words])\n",
        "\n",
        "# Используем PCA — метод понижения размерности.\n",
        "# Исходно каждый вектор имеет ~300 признаков. Мы хотим уменьшить до 2 признаков,\n",
        "# чтобы можно было отобразить векторы на 2D-графике (ось X и ось Y).\n",
        "pca = PCA(n_components=2)  # оставляем только 2 компоненты (наиболее важные направления данных)\n",
        "word_vectors_pca = pca.fit_transform(word_vectors)  # применяем PCA и получаем двумерные координаты\n",
        "\n",
        "# Начинаем рисовать график\n",
        "plt.figure(figsize=(12, 6))  # задаём размер изображения: ширина 12, высота 6 дюймов\n",
        "\n",
        "plt.subplot(1, 2, 1)  # создаём \"подграфик\" — 1 строка, 2 столбца, выбираем 1-й\n",
        "plt.scatter(word_vectors_pca[:, 0], word_vectors_pca[:, 1])  # рисуем точки на графике (x и y координаты)\n",
        "# Для каждой точки подписываем её соответствующим словом\n",
        "for i, word in enumerate(words):\n",
        "    plt.annotate(word, (word_vectors_pca[i, 0], word_vectors_pca[i, 1]))  # пишем слово рядом с точкой\n",
        "\n",
        "# Задаём название графика\n",
        "plt.title(\"PCA\")\n",
        "# Показываем готовую картинку\n",
        "plt.show()"
      ]
    },
    {
      "cell_type": "markdown",
      "source": [
        "График хорошо показывает, что слова вроде указания времени, животных ,\n",
        "фруктов сгруппировались между собой, это именно то, что нам нужно, ведь\n",
        "они часто употребляются в похожем контексте."
      ],
      "metadata": {
        "id": "eKh3pOZ4SNL-"
      }
    },
    {
      "cell_type": "code",
      "source": [],
      "metadata": {
        "id": "5ve7tzeOSNzz"
      },
      "execution_count": 6,
      "outputs": []
    }
  ]
}